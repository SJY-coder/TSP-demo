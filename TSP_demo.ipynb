{
  "nbformat": 4,
  "nbformat_minor": 0,
  "metadata": {
    "colab": {
      "name": "TSP_demo (1).ipynb",
      "provenance": [],
      "collapsed_sections": [],
      "include_colab_link": true
    },
    "kernelspec": {
      "name": "python3",
      "display_name": "Python 3"
    },
    "accelerator": "GPU"
  },
  "cells": [
    {
      "cell_type": "markdown",
      "metadata": {
        "id": "view-in-github",
        "colab_type": "text"
      },
      "source": [
        "<a href=\"https://colab.research.google.com/github/SJY-coder/TSP-demo/blob/master/TSP_demo.ipynb\" target=\"_parent\"><img src=\"https://colab.research.google.com/assets/colab-badge.svg\" alt=\"Open In Colab\"/></a>"
      ]
    },
    {
      "cell_type": "markdown",
      "metadata": {
        "id": "N_3F2fc0DatT"
      },
      "source": [
        "本プロジェクトの目標は当日の株式の情報と当日の人気ニュース（本プロジェクトでは使わなかったですが、目標としてTwitterのAPIを用いて人気tweetを使うことです。）をもとに一日後の株の変動価額を予想することです。\n",
        "\n",
        "\n",
        "ここではKaggleからのDaily News for Stock Market Predictionのデータセットを使いました。\n",
        "\n",
        "url-- https://www.kaggle.com/aaron7sun/stocknews\n",
        "\n",
        "このプログラムを書いた当時には提出を想定せずにコメントを英語に書いた点、何とぞ理解いただきたく、ご承知ください。\n",
        "\n",
        "\n",
        "ニュースなどでは自然後が使われているため、sentence_transformers（pretrained by RoBERTa）というパイソンライブラリーを用いて各文章を意味を持つベクトルとして表現しました。\n",
        "\n",
        "一日には25個のニュースがありまして、ベクトル化した文章をRNNにインプットしｎ次の特性を出力できるようにしました。出力された特性はDNNに入れて出た株価の特性と合流され、また新しいDNNに入って次の日の株価を予想できることを目標としました。"
      ]
    },
    {
      "cell_type": "markdown",
      "metadata": {
        "id": "7PXM2AzJoOS6"
      },
      "source": [
        "**Fetch Kaggle Datasets into Colab**"
      ]
    },
    {
      "cell_type": "code",
      "metadata": {
        "id": "d0BcnT31ZUNk",
        "outputId": "b28f07ac-061e-4723-a699-3545d5c29668",
        "colab": {
          "base_uri": "https://localhost:8080/",
          "height": 35
        }
      },
      "source": [
        "from google.colab import drive\n",
        "drive.mount('/content/gdrive')"
      ],
      "execution_count": null,
      "outputs": [
        {
          "output_type": "stream",
          "text": [
            "Mounted at /content/gdrive\n"
          ],
          "name": "stdout"
        }
      ]
    },
    {
      "cell_type": "code",
      "metadata": {
        "id": "Z0GfO-SjnAl8",
        "outputId": "395fae8f-48b8-467b-ff96-2ea6d969edf0",
        "colab": {
          "base_uri": "https://localhost:8080/",
          "height": 35
        }
      },
      "source": [
        "import os\n",
        "os.environ['KAGGLE_CONFIG_DIR']=\"/content/gdrive/My Drive/Kaggle\"\n",
        "\n",
        "# /content/gdrive/My Drive/Kaggle is the path where kaggle.json is present in the Google Drive\n",
        "\n",
        "#changing the working directory\n",
        "%cd /content/gdrive/My Drive/Kaggle"
      ],
      "execution_count": null,
      "outputs": [
        {
          "output_type": "stream",
          "text": [
            "/content/gdrive/My Drive/Kaggle\n"
          ],
          "name": "stdout"
        }
      ]
    },
    {
      "cell_type": "code",
      "metadata": {
        "id": "MtYIh-XYngaG"
      },
      "source": [
        "#only for the first runtime\n",
        "# !kaggle datasets download -d aaron7sun/stocknews"
      ],
      "execution_count": null,
      "outputs": []
    },
    {
      "cell_type": "code",
      "metadata": {
        "id": "25V3RwRWnuaw",
        "outputId": "9e72c3dd-aa5e-491f-a695-4c3fe6cbb9a1",
        "colab": {
          "base_uri": "https://localhost:8080/",
          "height": 54
        }
      },
      "source": [
        "!ls"
      ],
      "execution_count": null,
      "outputs": [
        {
          "output_type": "stream",
          "text": [
            "Combined_News_DJIA.csv\tRedditNews.csv\tupload_DJIA_table.csv\n",
            "kaggle.json\t\tstocknews.zip\n"
          ],
          "name": "stdout"
        }
      ]
    },
    {
      "cell_type": "code",
      "metadata": {
        "id": "m2lIUnRAn47V"
      },
      "source": [
        "#only for the first runtime\n",
        "# !unzip \\*.zip && rm *.zip"
      ],
      "execution_count": null,
      "outputs": []
    },
    {
      "cell_type": "code",
      "metadata": {
        "id": "Od-fOL2uoKqI",
        "outputId": "f0c6aa1f-55ef-4469-d586-41f43e549bde",
        "colab": {
          "base_uri": "https://localhost:8080/",
          "height": 54
        }
      },
      "source": [
        "!ls"
      ],
      "execution_count": null,
      "outputs": [
        {
          "output_type": "stream",
          "text": [
            "Combined_News_DJIA.csv\tkaggle.json  RedditNews.csv  upload_DJIA_table.csv\n",
            "fin_model.png\t\tmodel.h5     stocknews.zip\n"
          ],
          "name": "stdout"
        }
      ]
    },
    {
      "cell_type": "markdown",
      "metadata": {
        "id": "HBiSJWTroZhQ"
      },
      "source": [
        "#**Preprocessing Datasets**\n",
        "\n",
        "### merge 'Combined_News_DJIA.csv' with 'upload_DJIA_table.csv' to predict precise p-change(next day close price - next dat open price) for the next day.\n"
      ]
    },
    {
      "cell_type": "code",
      "metadata": {
        "id": "QDbmEoojpfxp"
      },
      "source": [
        "import pandas as pd\n",
        "df1 = pd.read_csv('Combined_News_DJIA.csv')\n",
        "df2 = pd.read_csv('upload_DJIA_table.csv')\n",
        "#merge on 'Date' column for left&right\n",
        "full_df = df1.merge(df2, left_on = 'Date', right_on = 'Date')"
      ],
      "execution_count": null,
      "outputs": []
    },
    {
      "cell_type": "code",
      "metadata": {
        "id": "7FfrVXZosX0q",
        "outputId": "f38b067d-9c96-46e8-e921-783dad29bac2",
        "colab": {
          "base_uri": "https://localhost:8080/",
          "height": 720
        }
      },
      "source": [
        "print(df1.shape,\"+\",df2.shape,\"=>\",full_df.shape)\n",
        "full_df.head()"
      ],
      "execution_count": null,
      "outputs": [
        {
          "output_type": "stream",
          "text": [
            "(1989, 27) + (1989, 7) => (1989, 33)\n"
          ],
          "name": "stdout"
        },
        {
          "output_type": "execute_result",
          "data": {
            "text/html": [
              "<div>\n",
              "<style scoped>\n",
              "    .dataframe tbody tr th:only-of-type {\n",
              "        vertical-align: middle;\n",
              "    }\n",
              "\n",
              "    .dataframe tbody tr th {\n",
              "        vertical-align: top;\n",
              "    }\n",
              "\n",
              "    .dataframe thead th {\n",
              "        text-align: right;\n",
              "    }\n",
              "</style>\n",
              "<table border=\"1\" class=\"dataframe\">\n",
              "  <thead>\n",
              "    <tr style=\"text-align: right;\">\n",
              "      <th></th>\n",
              "      <th>Date</th>\n",
              "      <th>Label</th>\n",
              "      <th>Top1</th>\n",
              "      <th>Top2</th>\n",
              "      <th>Top3</th>\n",
              "      <th>Top4</th>\n",
              "      <th>Top5</th>\n",
              "      <th>Top6</th>\n",
              "      <th>Top7</th>\n",
              "      <th>Top8</th>\n",
              "      <th>Top9</th>\n",
              "      <th>Top10</th>\n",
              "      <th>Top11</th>\n",
              "      <th>Top12</th>\n",
              "      <th>Top13</th>\n",
              "      <th>Top14</th>\n",
              "      <th>Top15</th>\n",
              "      <th>Top16</th>\n",
              "      <th>Top17</th>\n",
              "      <th>Top18</th>\n",
              "      <th>Top19</th>\n",
              "      <th>Top20</th>\n",
              "      <th>Top21</th>\n",
              "      <th>Top22</th>\n",
              "      <th>Top23</th>\n",
              "      <th>Top24</th>\n",
              "      <th>Top25</th>\n",
              "      <th>Open</th>\n",
              "      <th>High</th>\n",
              "      <th>Low</th>\n",
              "      <th>Close</th>\n",
              "      <th>Volume</th>\n",
              "      <th>Adj Close</th>\n",
              "    </tr>\n",
              "  </thead>\n",
              "  <tbody>\n",
              "    <tr>\n",
              "      <th>0</th>\n",
              "      <td>2008-08-08</td>\n",
              "      <td>0</td>\n",
              "      <td>b\"Georgia 'downs two Russian warplanes' as cou...</td>\n",
              "      <td>b'BREAKING: Musharraf to be impeached.'</td>\n",
              "      <td>b'Russia Today: Columns of troops roll into So...</td>\n",
              "      <td>b'Russian tanks are moving towards the capital...</td>\n",
              "      <td>b\"Afghan children raped with 'impunity,' U.N. ...</td>\n",
              "      <td>b'150 Russian tanks have entered South Ossetia...</td>\n",
              "      <td>b\"Breaking: Georgia invades South Ossetia, Rus...</td>\n",
              "      <td>b\"The 'enemy combatent' trials are nothing but...</td>\n",
              "      <td>b'Georgian troops retreat from S. Osettain cap...</td>\n",
              "      <td>b'Did the U.S. Prep Georgia for War with Russia?'</td>\n",
              "      <td>b'Rice Gives Green Light for Israel to Attack ...</td>\n",
              "      <td>b'Announcing:Class Action Lawsuit on Behalf of...</td>\n",
              "      <td>b\"So---Russia and Georgia are at war and the N...</td>\n",
              "      <td>b\"China tells Bush to stay out of other countr...</td>\n",
              "      <td>b'Did World War III start today?'</td>\n",
              "      <td>b'Georgia Invades South Ossetia - if Russia ge...</td>\n",
              "      <td>b'Al-Qaeda Faces Islamist Backlash'</td>\n",
              "      <td>b'Condoleezza Rice: \"The US would not act to p...</td>\n",
              "      <td>b'This is a busy day:  The European Union has ...</td>\n",
              "      <td>b\"Georgia will withdraw 1,000 soldiers from Ir...</td>\n",
              "      <td>b'Why the Pentagon Thinks Attacking Iran is a ...</td>\n",
              "      <td>b'Caucasus in crisis: Georgia invades South Os...</td>\n",
              "      <td>b'Indian shoe manufactory  - And again in a se...</td>\n",
              "      <td>b'Visitors Suffering from Mental Illnesses Ban...</td>\n",
              "      <td>b\"No Help for Mexico's Kidnapping Surge\"</td>\n",
              "      <td>11432.089844</td>\n",
              "      <td>11759.959961</td>\n",
              "      <td>11388.040039</td>\n",
              "      <td>11734.320312</td>\n",
              "      <td>212830000</td>\n",
              "      <td>11734.320312</td>\n",
              "    </tr>\n",
              "    <tr>\n",
              "      <th>1</th>\n",
              "      <td>2008-08-11</td>\n",
              "      <td>1</td>\n",
              "      <td>b'Why wont America and Nato help us? If they w...</td>\n",
              "      <td>b'Bush puts foot down on Georgian conflict'</td>\n",
              "      <td>b\"Jewish Georgian minister: Thanks to Israeli ...</td>\n",
              "      <td>b'Georgian army flees in disarray as Russians ...</td>\n",
              "      <td>b\"Olympic opening ceremony fireworks 'faked'\"</td>\n",
              "      <td>b'What were the Mossad with fraudulent New Zea...</td>\n",
              "      <td>b'Russia angered by Israeli military sale to G...</td>\n",
              "      <td>b'An American citizen living in S.Ossetia blam...</td>\n",
              "      <td>b'Welcome To World War IV! Now In High Definit...</td>\n",
              "      <td>b\"Georgia's move, a mistake of monumental prop...</td>\n",
              "      <td>b'Russia presses deeper into Georgia; U.S. say...</td>\n",
              "      <td>b'Abhinav Bindra wins first ever Individual Ol...</td>\n",
              "      <td>b' U.S. ship heads for Arctic to define territ...</td>\n",
              "      <td>b'Drivers in a Jerusalem taxi station threaten...</td>\n",
              "      <td>b'The French Team is Stunned by Phelps and the...</td>\n",
              "      <td>b'Israel and the US behind the Georgian aggres...</td>\n",
              "      <td>b'\"Do not believe TV, neither Russian nor Geor...</td>\n",
              "      <td>b'Riots are still going on in Montreal (Canada...</td>\n",
              "      <td>b'China to overtake US as largest manufacturer'</td>\n",
              "      <td>b'War in South Ossetia [PICS]'</td>\n",
              "      <td>b'Israeli Physicians Group Condemns State Tort...</td>\n",
              "      <td>b' Russia has just beaten the United States ov...</td>\n",
              "      <td>b'Perhaps *the* question about the Georgia - R...</td>\n",
              "      <td>b'Russia is so much better at war'</td>\n",
              "      <td>b\"So this is what it's come to: trading sex fo...</td>\n",
              "      <td>11729.669922</td>\n",
              "      <td>11867.110352</td>\n",
              "      <td>11675.530273</td>\n",
              "      <td>11782.349609</td>\n",
              "      <td>183190000</td>\n",
              "      <td>11782.349609</td>\n",
              "    </tr>\n",
              "    <tr>\n",
              "      <th>2</th>\n",
              "      <td>2008-08-12</td>\n",
              "      <td>0</td>\n",
              "      <td>b'Remember that adorable 9-year-old who sang a...</td>\n",
              "      <td>b\"Russia 'ends Georgia operation'\"</td>\n",
              "      <td>b'\"If we had no sexual harassment we would hav...</td>\n",
              "      <td>b\"Al-Qa'eda is losing support in Iraq because ...</td>\n",
              "      <td>b'Ceasefire in Georgia: Putin Outmaneuvers the...</td>\n",
              "      <td>b'Why Microsoft and Intel tried to kill the XO...</td>\n",
              "      <td>b'Stratfor: The Russo-Georgian War and the Bal...</td>\n",
              "      <td>b\"I'm Trying to Get a Sense of This Whole Geor...</td>\n",
              "      <td>b\"The US military was surprised by the timing ...</td>\n",
              "      <td>b'U.S. Beats War Drum as Iran Dumps the Dollar'</td>\n",
              "      <td>b'Gorbachev: \"Georgian military attacked the S...</td>\n",
              "      <td>b'CNN use footage of Tskhinvali ruins to cover...</td>\n",
              "      <td>b'Beginning a war as the Olympics were opening...</td>\n",
              "      <td>b'55 pyramids as large as the Luxor stacked in...</td>\n",
              "      <td>b'The 11 Top Party Cities in the World'</td>\n",
              "      <td>b'U.S. troops still in Georgia (did you know t...</td>\n",
              "      <td>b'Why Russias response to Georgia was right'</td>\n",
              "      <td>b'Gorbachev accuses U.S. of making a \"serious ...</td>\n",
              "      <td>b'Russia, Georgia, and NATO: Cold War Two'</td>\n",
              "      <td>b'Remember that adorable 62-year-old who led y...</td>\n",
              "      <td>b'War in Georgia: The Israeli connection'</td>\n",
              "      <td>b'All signs point to the US encouraging Georgi...</td>\n",
              "      <td>b'Christopher King argues that the US and NATO...</td>\n",
              "      <td>b'America: The New Mexico?'</td>\n",
              "      <td>b\"BBC NEWS | Asia-Pacific | Extinction 'by man...</td>\n",
              "      <td>11781.700195</td>\n",
              "      <td>11782.349609</td>\n",
              "      <td>11601.519531</td>\n",
              "      <td>11642.469727</td>\n",
              "      <td>173590000</td>\n",
              "      <td>11642.469727</td>\n",
              "    </tr>\n",
              "    <tr>\n",
              "      <th>3</th>\n",
              "      <td>2008-08-13</td>\n",
              "      <td>0</td>\n",
              "      <td>b' U.S. refuses Israel weapons to attack Iran:...</td>\n",
              "      <td>b\"When the president ordered to attack Tskhinv...</td>\n",
              "      <td>b' Israel clears troops who killed Reuters cam...</td>\n",
              "      <td>b'Britain\\'s policy of being tough on drugs is...</td>\n",
              "      <td>b'Body of 14 year old found in trunk; Latest (...</td>\n",
              "      <td>b'China has moved 10 *million* quake survivors...</td>\n",
              "      <td>b\"Bush announces Operation Get All Up In Russi...</td>\n",
              "      <td>b'Russian forces sink Georgian ships '</td>\n",
              "      <td>b\"The commander of a Navy air reconnaissance s...</td>\n",
              "      <td>b\"92% of CNN readers: Russia's actions in Geor...</td>\n",
              "      <td>b'USA to send fleet into Black Sea to help Geo...</td>\n",
              "      <td>b\"US warns against Israeli plan to strike agai...</td>\n",
              "      <td>b\"In an intriguing cyberalliance, two Estonian...</td>\n",
              "      <td>b'The CNN Effect: Georgia Schools Russia in In...</td>\n",
              "      <td>b'Why Russias response to Georgia was right'</td>\n",
              "      <td>b'Elephants extinct by 2020?'</td>\n",
              "      <td>b'US humanitarian missions soon in Georgia - i...</td>\n",
              "      <td>b\"Georgia's DDOS came from US sources\"</td>\n",
              "      <td>b'Russian convoy heads into Georgia, violating...</td>\n",
              "      <td>b'Israeli defence minister: US against strike ...</td>\n",
              "      <td>b'Gorbachev: We Had No Choice'</td>\n",
              "      <td>b'Witness: Russian forces head towards Tbilisi...</td>\n",
              "      <td>b' Quarter of Russians blame U.S. for conflict...</td>\n",
              "      <td>b'Georgian president  says US military will ta...</td>\n",
              "      <td>b'2006: Nobel laureate Aleksander Solzhenitsyn...</td>\n",
              "      <td>11632.809570</td>\n",
              "      <td>11633.780273</td>\n",
              "      <td>11453.339844</td>\n",
              "      <td>11532.959961</td>\n",
              "      <td>182550000</td>\n",
              "      <td>11532.959961</td>\n",
              "    </tr>\n",
              "    <tr>\n",
              "      <th>4</th>\n",
              "      <td>2008-08-14</td>\n",
              "      <td>1</td>\n",
              "      <td>b'All the experts admit that we should legalis...</td>\n",
              "      <td>b'War in South Osetia - 89 pictures made by a ...</td>\n",
              "      <td>b'Swedish wrestler Ara Abrahamian throws away ...</td>\n",
              "      <td>b'Russia exaggerated the death toll in South O...</td>\n",
              "      <td>b'Missile That Killed 9 Inside Pakistan May Ha...</td>\n",
              "      <td>b\"Rushdie Condemns Random House's Refusal to P...</td>\n",
              "      <td>b'Poland and US agree to missle defense deal. ...</td>\n",
              "      <td>b'Will the Russians conquer Tblisi? Bet on it,...</td>\n",
              "      <td>b'Russia exaggerating South Ossetian death tol...</td>\n",
              "      <td>b' Musharraf expected to resign rather than fa...</td>\n",
              "      <td>b'Moscow Made Plans Months Ago to Invade Georgia'</td>\n",
              "      <td>b'Why Russias response to Georgia was right'</td>\n",
              "      <td>b'Nigeria has handed over the potentially oil-...</td>\n",
              "      <td>b'The US and Poland have agreed a preliminary ...</td>\n",
              "      <td>b'Russia apparently is sabotaging infrastructu...</td>\n",
              "      <td>b'Bank analyst forecast Georgian crisis 2 days...</td>\n",
              "      <td>b\"Georgia confict could set back Russia's US r...</td>\n",
              "      <td>b'War in the Caucasus is as much the product o...</td>\n",
              "      <td>b'\"Non-media\" photos of South Ossetia/Georgia ...</td>\n",
              "      <td>b'Georgian TV reporter shot by Russian sniper ...</td>\n",
              "      <td>b'Saudi Arabia: Mother moves to block child ma...</td>\n",
              "      <td>b'Taliban wages war on humanitarian aid workers'</td>\n",
              "      <td>b'Russia: World  \"can forget about\" Georgia\\'s...</td>\n",
              "      <td>b'Darfur rebels accuse Sudan of mounting major...</td>\n",
              "      <td>b'Philippines : Peace Advocate say Muslims nee...</td>\n",
              "      <td>11532.070312</td>\n",
              "      <td>11718.280273</td>\n",
              "      <td>11450.889648</td>\n",
              "      <td>11615.929688</td>\n",
              "      <td>159790000</td>\n",
              "      <td>11615.929688</td>\n",
              "    </tr>\n",
              "  </tbody>\n",
              "</table>\n",
              "</div>"
            ],
            "text/plain": [
              "         Date  Label  ...     Volume     Adj Close\n",
              "0  2008-08-08      0  ...  212830000  11734.320312\n",
              "1  2008-08-11      1  ...  183190000  11782.349609\n",
              "2  2008-08-12      0  ...  173590000  11642.469727\n",
              "3  2008-08-13      0  ...  182550000  11532.959961\n",
              "4  2008-08-14      1  ...  159790000  11615.929688\n",
              "\n",
              "[5 rows x 33 columns]"
            ]
          },
          "metadata": {
            "tags": []
          },
          "execution_count": 5
        }
      ]
    },
    {
      "cell_type": "code",
      "metadata": {
        "id": "3kB8nW6SsaUU",
        "outputId": "982b33b3-b041-4038-f322-8d827ad7aac1",
        "colab": {
          "base_uri": "https://localhost:8080/",
          "height": 702
        }
      },
      "source": [
        "import numpy as np\n",
        "import string\n",
        "pd.options.mode.chained_assignment = None\n",
        "#giving df a new column of nexts day's open price & close price for target + text preprocessing\n",
        "str_df = full_df.iloc[:,2:27].astype(str)\n",
        "PUNCT_TO_REMOVE = string.punctuation\n",
        "def remove_punctuation(text):\n",
        "  \"\"\"custom function to remove punctuation\"\"\"\n",
        "  return text.translate(str.maketrans('', '',PUNCT_TO_REMOVE))\n",
        "def remove_b(str_df): \n",
        "  for i in range(str_df.shape[1]):\n",
        "    str_df.iloc[:,i] = str_df.iloc[:,i].apply(lambda text: remove_punctuation(text))\n",
        "    for j in range(len(str_df.iloc[:,1])):\n",
        "      #deleting 'b' in front of sentence\n",
        "      str_df.iloc[:,i][j] = str_df.iloc[:,i][j][1:]\n",
        "  return str_df\n",
        "remove_b(str_df)\n",
        "full_df.iloc[:,2:27] = str_df\n",
        "full_df.head()"
      ],
      "execution_count": null,
      "outputs": [
        {
          "output_type": "execute_result",
          "data": {
            "text/html": [
              "<div>\n",
              "<style scoped>\n",
              "    .dataframe tbody tr th:only-of-type {\n",
              "        vertical-align: middle;\n",
              "    }\n",
              "\n",
              "    .dataframe tbody tr th {\n",
              "        vertical-align: top;\n",
              "    }\n",
              "\n",
              "    .dataframe thead th {\n",
              "        text-align: right;\n",
              "    }\n",
              "</style>\n",
              "<table border=\"1\" class=\"dataframe\">\n",
              "  <thead>\n",
              "    <tr style=\"text-align: right;\">\n",
              "      <th></th>\n",
              "      <th>Date</th>\n",
              "      <th>Label</th>\n",
              "      <th>Top1</th>\n",
              "      <th>Top2</th>\n",
              "      <th>Top3</th>\n",
              "      <th>Top4</th>\n",
              "      <th>Top5</th>\n",
              "      <th>Top6</th>\n",
              "      <th>Top7</th>\n",
              "      <th>Top8</th>\n",
              "      <th>Top9</th>\n",
              "      <th>Top10</th>\n",
              "      <th>Top11</th>\n",
              "      <th>Top12</th>\n",
              "      <th>Top13</th>\n",
              "      <th>Top14</th>\n",
              "      <th>Top15</th>\n",
              "      <th>Top16</th>\n",
              "      <th>Top17</th>\n",
              "      <th>Top18</th>\n",
              "      <th>Top19</th>\n",
              "      <th>Top20</th>\n",
              "      <th>Top21</th>\n",
              "      <th>Top22</th>\n",
              "      <th>Top23</th>\n",
              "      <th>Top24</th>\n",
              "      <th>Top25</th>\n",
              "      <th>Open</th>\n",
              "      <th>High</th>\n",
              "      <th>Low</th>\n",
              "      <th>Close</th>\n",
              "      <th>Volume</th>\n",
              "      <th>Adj Close</th>\n",
              "    </tr>\n",
              "  </thead>\n",
              "  <tbody>\n",
              "    <tr>\n",
              "      <th>0</th>\n",
              "      <td>2008-08-08</td>\n",
              "      <td>0</td>\n",
              "      <td>Georgia downs two Russian warplanes as countri...</td>\n",
              "      <td>BREAKING Musharraf to be impeached</td>\n",
              "      <td>Russia Today Columns of troops roll into South...</td>\n",
              "      <td>Russian tanks are moving towards the capital o...</td>\n",
              "      <td>Afghan children raped with impunity UN officia...</td>\n",
              "      <td>150 Russian tanks have entered South Ossetia w...</td>\n",
              "      <td>Breaking Georgia invades South Ossetia Russia ...</td>\n",
              "      <td>The enemy combatent trials are nothing but a s...</td>\n",
              "      <td>Georgian troops retreat from S Osettain capita...</td>\n",
              "      <td>Did the US Prep Georgia for War with Russia</td>\n",
              "      <td>Rice Gives Green Light for Israel to Attack Ir...</td>\n",
              "      <td>AnnouncingClass Action Lawsuit on Behalf of Am...</td>\n",
              "      <td>SoRussia and Georgia are at war and the NYTs t...</td>\n",
              "      <td>China tells Bush to stay out of other countrie...</td>\n",
              "      <td>Did World War III start today</td>\n",
              "      <td>Georgia Invades South Ossetia  if Russia gets ...</td>\n",
              "      <td>AlQaeda Faces Islamist Backlash</td>\n",
              "      <td>Condoleezza Rice The US would not act to preve...</td>\n",
              "      <td>This is a busy day  The European Union has app...</td>\n",
              "      <td>Georgia will withdraw 1000 soldiers from Iraq ...</td>\n",
              "      <td>Why the Pentagon Thinks Attacking Iran is a Ba...</td>\n",
              "      <td>Caucasus in crisis Georgia invades South Ossetia</td>\n",
              "      <td>Indian shoe manufactory   And again in a serie...</td>\n",
              "      <td>Visitors Suffering from Mental Illnesses Banne...</td>\n",
              "      <td>No Help for Mexicos Kidnapping Surge</td>\n",
              "      <td>11432.089844</td>\n",
              "      <td>11759.959961</td>\n",
              "      <td>11388.040039</td>\n",
              "      <td>11734.320312</td>\n",
              "      <td>212830000</td>\n",
              "      <td>11734.320312</td>\n",
              "    </tr>\n",
              "    <tr>\n",
              "      <th>1</th>\n",
              "      <td>2008-08-11</td>\n",
              "      <td>1</td>\n",
              "      <td>Why wont America and Nato help us If they wont...</td>\n",
              "      <td>Bush puts foot down on Georgian conflict</td>\n",
              "      <td>Jewish Georgian minister Thanks to Israeli tra...</td>\n",
              "      <td>Georgian army flees in disarray as Russians ad...</td>\n",
              "      <td>Olympic opening ceremony fireworks faked</td>\n",
              "      <td>What were the Mossad with fraudulent New Zeala...</td>\n",
              "      <td>Russia angered by Israeli military sale to Geo...</td>\n",
              "      <td>An American citizen living in SOssetia blames ...</td>\n",
              "      <td>Welcome To World War IV Now In High Definition</td>\n",
              "      <td>Georgias move a mistake of monumental proporti...</td>\n",
              "      <td>Russia presses deeper into Georgia US says reg...</td>\n",
              "      <td>Abhinav Bindra wins first ever Individual Olym...</td>\n",
              "      <td>US ship heads for Arctic to define territory</td>\n",
              "      <td>Drivers in a Jerusalem taxi station threaten t...</td>\n",
              "      <td>The French Team is Stunned by Phelps and the 4...</td>\n",
              "      <td>Israel and the US behind the Georgian aggression</td>\n",
              "      <td>Do not believe TV neither Russian nor Georgian...</td>\n",
              "      <td>Riots are still going on in Montreal Canada be...</td>\n",
              "      <td>China to overtake US as largest manufacturer</td>\n",
              "      <td>War in South Ossetia PICS</td>\n",
              "      <td>Israeli Physicians Group Condemns State Torture</td>\n",
              "      <td>Russia has just beaten the United States over...</td>\n",
              "      <td>Perhaps the question about the Georgia  Russia...</td>\n",
              "      <td>Russia is so much better at war</td>\n",
              "      <td>So this is what its come to trading sex for food</td>\n",
              "      <td>11729.669922</td>\n",
              "      <td>11867.110352</td>\n",
              "      <td>11675.530273</td>\n",
              "      <td>11782.349609</td>\n",
              "      <td>183190000</td>\n",
              "      <td>11782.349609</td>\n",
              "    </tr>\n",
              "    <tr>\n",
              "      <th>2</th>\n",
              "      <td>2008-08-12</td>\n",
              "      <td>0</td>\n",
              "      <td>Remember that adorable 9yearold who sang at th...</td>\n",
              "      <td>Russia ends Georgia operation</td>\n",
              "      <td>If we had no sexual harassment we would have n...</td>\n",
              "      <td>AlQaeda is losing support in Iraq because of a...</td>\n",
              "      <td>Ceasefire in Georgia Putin Outmaneuvers the West</td>\n",
              "      <td>Why Microsoft and Intel tried to kill the XO 1...</td>\n",
              "      <td>Stratfor The RussoGeorgian War and the Balance...</td>\n",
              "      <td>Im Trying to Get a Sense of This Whole Georgia...</td>\n",
              "      <td>The US military was surprised by the timing an...</td>\n",
              "      <td>US Beats War Drum as Iran Dumps the Dollar</td>\n",
              "      <td>Gorbachev Georgian military attacked the South...</td>\n",
              "      <td>CNN use footage of Tskhinvali ruins to cover G...</td>\n",
              "      <td>Beginning a war as the Olympics were opening v...</td>\n",
              "      <td>55 pyramids as large as the Luxor stacked into...</td>\n",
              "      <td>The 11 Top Party Cities in the World</td>\n",
              "      <td>US troops still in Georgia did you know they w...</td>\n",
              "      <td>Why Russias response to Georgia was right</td>\n",
              "      <td>Gorbachev accuses US of making a serious blund...</td>\n",
              "      <td>Russia Georgia and NATO Cold War Two</td>\n",
              "      <td>Remember that adorable 62yearold who led your ...</td>\n",
              "      <td>War in Georgia The Israeli connection</td>\n",
              "      <td>All signs point to the US encouraging Georgia ...</td>\n",
              "      <td>Christopher King argues that the US and NATO a...</td>\n",
              "      <td>America The New Mexico</td>\n",
              "      <td>BBC NEWS  AsiaPacific  Extinction by man not c...</td>\n",
              "      <td>11781.700195</td>\n",
              "      <td>11782.349609</td>\n",
              "      <td>11601.519531</td>\n",
              "      <td>11642.469727</td>\n",
              "      <td>173590000</td>\n",
              "      <td>11642.469727</td>\n",
              "    </tr>\n",
              "    <tr>\n",
              "      <th>3</th>\n",
              "      <td>2008-08-13</td>\n",
              "      <td>0</td>\n",
              "      <td>US refuses Israel weapons to attack Iran report</td>\n",
              "      <td>When the president ordered to attack Tskhinval...</td>\n",
              "      <td>Israel clears troops who killed Reuters camer...</td>\n",
              "      <td>Britains policy of being tough on drugs is poi...</td>\n",
              "      <td>Body of 14 year old found in trunk Latest rans...</td>\n",
              "      <td>China has moved 10 million quake survivors int...</td>\n",
              "      <td>Bush announces Operation Get All Up In Russias...</td>\n",
              "      <td>Russian forces sink Georgian ships</td>\n",
              "      <td>The commander of a Navy air reconnaissance squ...</td>\n",
              "      <td>92 of CNN readers Russias actions in Georgia  ...</td>\n",
              "      <td>USA to send fleet into Black Sea to help Georg...</td>\n",
              "      <td>US warns against Israeli plan to strike agains...</td>\n",
              "      <td>In an intriguing cyberalliance two Estonian co...</td>\n",
              "      <td>The CNN Effect Georgia Schools Russia in Infor...</td>\n",
              "      <td>Why Russias response to Georgia was right</td>\n",
              "      <td>Elephants extinct by 2020</td>\n",
              "      <td>US humanitarian missions soon in Georgia  if R...</td>\n",
              "      <td>Georgias DDOS came from US sources</td>\n",
              "      <td>Russian convoy heads into Georgia violating truce</td>\n",
              "      <td>Israeli defence minister US against strike on ...</td>\n",
              "      <td>Gorbachev We Had No Choice</td>\n",
              "      <td>Witness Russian forces head towards Tbilisi in...</td>\n",
              "      <td>Quarter of Russians blame US for conflict poll</td>\n",
              "      <td>Georgian president  says US military will take...</td>\n",
              "      <td>2006 Nobel laureate Aleksander Solzhenitsyn ac...</td>\n",
              "      <td>11632.809570</td>\n",
              "      <td>11633.780273</td>\n",
              "      <td>11453.339844</td>\n",
              "      <td>11532.959961</td>\n",
              "      <td>182550000</td>\n",
              "      <td>11532.959961</td>\n",
              "    </tr>\n",
              "    <tr>\n",
              "      <th>4</th>\n",
              "      <td>2008-08-14</td>\n",
              "      <td>1</td>\n",
              "      <td>All the experts admit that we should legalise ...</td>\n",
              "      <td>War in South Osetia  89 pictures made by a Rus...</td>\n",
              "      <td>Swedish wrestler Ara Abrahamian throws away me...</td>\n",
              "      <td>Russia exaggerated the death toll in South Oss...</td>\n",
              "      <td>Missile That Killed 9 Inside Pakistan May Have...</td>\n",
              "      <td>Rushdie Condemns Random Houses Refusal to Publ...</td>\n",
              "      <td>Poland and US agree to missle defense deal Int...</td>\n",
              "      <td>Will the Russians conquer Tblisi Bet on it no ...</td>\n",
              "      <td>Russia exaggerating South Ossetian death toll ...</td>\n",
              "      <td>Musharraf expected to resign rather than face...</td>\n",
              "      <td>Moscow Made Plans Months Ago to Invade Georgia</td>\n",
              "      <td>Why Russias response to Georgia was right</td>\n",
              "      <td>Nigeria has handed over the potentially oilric...</td>\n",
              "      <td>The US and Poland have agreed a preliminary de...</td>\n",
              "      <td>Russia apparently is sabotaging infrastructure...</td>\n",
              "      <td>Bank analyst forecast Georgian crisis 2 days e...</td>\n",
              "      <td>Georgia confict could set back Russias US rela...</td>\n",
              "      <td>War in the Caucasus is as much the product of ...</td>\n",
              "      <td>Nonmedia photos of South OssetiaGeorgia conflict</td>\n",
              "      <td>Georgian TV reporter shot by Russian sniper du...</td>\n",
              "      <td>Saudi Arabia Mother moves to block child marriage</td>\n",
              "      <td>Taliban wages war on humanitarian aid workers</td>\n",
              "      <td>Russia World  can forget about Georgias territ...</td>\n",
              "      <td>Darfur rebels accuse Sudan of mounting major a...</td>\n",
              "      <td>Philippines  Peace Advocate say Muslims need a...</td>\n",
              "      <td>11532.070312</td>\n",
              "      <td>11718.280273</td>\n",
              "      <td>11450.889648</td>\n",
              "      <td>11615.929688</td>\n",
              "      <td>159790000</td>\n",
              "      <td>11615.929688</td>\n",
              "    </tr>\n",
              "  </tbody>\n",
              "</table>\n",
              "</div>"
            ],
            "text/plain": [
              "         Date  Label  ...     Volume     Adj Close\n",
              "0  2008-08-08      0  ...  212830000  11734.320312\n",
              "1  2008-08-11      1  ...  183190000  11782.349609\n",
              "2  2008-08-12      0  ...  173590000  11642.469727\n",
              "3  2008-08-13      0  ...  182550000  11532.959961\n",
              "4  2008-08-14      1  ...  159790000  11615.929688\n",
              "\n",
              "[5 rows x 33 columns]"
            ]
          },
          "metadata": {
            "tags": []
          },
          "execution_count": 6
        }
      ]
    },
    {
      "cell_type": "code",
      "metadata": {
        "id": "XNtCJQ8sXFga"
      },
      "source": [
        "#create new column with next row's open & close price as target and drop last row\n",
        "df = full_df\n",
        "df_open_tmp = pd.DataFrame(df.iloc[1:,-6])\n",
        "df_close_tmp = pd.DataFrame(df.iloc[1:,-3])\n",
        "new_row_1 = pd.DataFrame({\"Open\": [0]})\n",
        "new_row_2 = pd.DataFrame({\"Close\": [0]})\n",
        "new_row_open = df_open_tmp.append(new_row_1, ignore_index=True)\n",
        "new_row_close = df_close_tmp.append(new_row_2, ignore_index=True)\n",
        "df[\"p-Open\"] = new_row_open\n",
        "df[\"p-Close\"] = new_row_close\n",
        "df = df.iloc[:-1,:]"
      ],
      "execution_count": null,
      "outputs": []
    },
    {
      "cell_type": "code",
      "metadata": {
        "id": "qudSjN4fboVY",
        "outputId": "51be9b09-b902-4d27-fa56-5f96c271997e",
        "colab": {
          "base_uri": "https://localhost:8080/",
          "height": 702
        }
      },
      "source": [
        "df.head()"
      ],
      "execution_count": null,
      "outputs": [
        {
          "output_type": "execute_result",
          "data": {
            "text/html": [
              "<div>\n",
              "<style scoped>\n",
              "    .dataframe tbody tr th:only-of-type {\n",
              "        vertical-align: middle;\n",
              "    }\n",
              "\n",
              "    .dataframe tbody tr th {\n",
              "        vertical-align: top;\n",
              "    }\n",
              "\n",
              "    .dataframe thead th {\n",
              "        text-align: right;\n",
              "    }\n",
              "</style>\n",
              "<table border=\"1\" class=\"dataframe\">\n",
              "  <thead>\n",
              "    <tr style=\"text-align: right;\">\n",
              "      <th></th>\n",
              "      <th>Date</th>\n",
              "      <th>Label</th>\n",
              "      <th>Top1</th>\n",
              "      <th>Top2</th>\n",
              "      <th>Top3</th>\n",
              "      <th>Top4</th>\n",
              "      <th>Top5</th>\n",
              "      <th>Top6</th>\n",
              "      <th>Top7</th>\n",
              "      <th>Top8</th>\n",
              "      <th>Top9</th>\n",
              "      <th>Top10</th>\n",
              "      <th>Top11</th>\n",
              "      <th>Top12</th>\n",
              "      <th>Top13</th>\n",
              "      <th>Top14</th>\n",
              "      <th>Top15</th>\n",
              "      <th>Top16</th>\n",
              "      <th>Top17</th>\n",
              "      <th>Top18</th>\n",
              "      <th>Top19</th>\n",
              "      <th>Top20</th>\n",
              "      <th>Top21</th>\n",
              "      <th>Top22</th>\n",
              "      <th>Top23</th>\n",
              "      <th>Top24</th>\n",
              "      <th>Top25</th>\n",
              "      <th>Open</th>\n",
              "      <th>High</th>\n",
              "      <th>Low</th>\n",
              "      <th>Close</th>\n",
              "      <th>Volume</th>\n",
              "      <th>Adj Close</th>\n",
              "      <th>p-Open</th>\n",
              "      <th>p-Close</th>\n",
              "    </tr>\n",
              "  </thead>\n",
              "  <tbody>\n",
              "    <tr>\n",
              "      <th>0</th>\n",
              "      <td>2008-08-08</td>\n",
              "      <td>0</td>\n",
              "      <td>Georgia downs two Russian warplanes as countri...</td>\n",
              "      <td>BREAKING Musharraf to be impeached</td>\n",
              "      <td>Russia Today Columns of troops roll into South...</td>\n",
              "      <td>Russian tanks are moving towards the capital o...</td>\n",
              "      <td>Afghan children raped with impunity UN officia...</td>\n",
              "      <td>150 Russian tanks have entered South Ossetia w...</td>\n",
              "      <td>Breaking Georgia invades South Ossetia Russia ...</td>\n",
              "      <td>The enemy combatent trials are nothing but a s...</td>\n",
              "      <td>Georgian troops retreat from S Osettain capita...</td>\n",
              "      <td>Did the US Prep Georgia for War with Russia</td>\n",
              "      <td>Rice Gives Green Light for Israel to Attack Ir...</td>\n",
              "      <td>AnnouncingClass Action Lawsuit on Behalf of Am...</td>\n",
              "      <td>SoRussia and Georgia are at war and the NYTs t...</td>\n",
              "      <td>China tells Bush to stay out of other countrie...</td>\n",
              "      <td>Did World War III start today</td>\n",
              "      <td>Georgia Invades South Ossetia  if Russia gets ...</td>\n",
              "      <td>AlQaeda Faces Islamist Backlash</td>\n",
              "      <td>Condoleezza Rice The US would not act to preve...</td>\n",
              "      <td>This is a busy day  The European Union has app...</td>\n",
              "      <td>Georgia will withdraw 1000 soldiers from Iraq ...</td>\n",
              "      <td>Why the Pentagon Thinks Attacking Iran is a Ba...</td>\n",
              "      <td>Caucasus in crisis Georgia invades South Ossetia</td>\n",
              "      <td>Indian shoe manufactory   And again in a serie...</td>\n",
              "      <td>Visitors Suffering from Mental Illnesses Banne...</td>\n",
              "      <td>No Help for Mexicos Kidnapping Surge</td>\n",
              "      <td>11432.089844</td>\n",
              "      <td>11759.959961</td>\n",
              "      <td>11388.040039</td>\n",
              "      <td>11734.320312</td>\n",
              "      <td>212830000</td>\n",
              "      <td>11734.320312</td>\n",
              "      <td>11729.669922</td>\n",
              "      <td>11782.349609</td>\n",
              "    </tr>\n",
              "    <tr>\n",
              "      <th>1</th>\n",
              "      <td>2008-08-11</td>\n",
              "      <td>1</td>\n",
              "      <td>Why wont America and Nato help us If they wont...</td>\n",
              "      <td>Bush puts foot down on Georgian conflict</td>\n",
              "      <td>Jewish Georgian minister Thanks to Israeli tra...</td>\n",
              "      <td>Georgian army flees in disarray as Russians ad...</td>\n",
              "      <td>Olympic opening ceremony fireworks faked</td>\n",
              "      <td>What were the Mossad with fraudulent New Zeala...</td>\n",
              "      <td>Russia angered by Israeli military sale to Geo...</td>\n",
              "      <td>An American citizen living in SOssetia blames ...</td>\n",
              "      <td>Welcome To World War IV Now In High Definition</td>\n",
              "      <td>Georgias move a mistake of monumental proporti...</td>\n",
              "      <td>Russia presses deeper into Georgia US says reg...</td>\n",
              "      <td>Abhinav Bindra wins first ever Individual Olym...</td>\n",
              "      <td>US ship heads for Arctic to define territory</td>\n",
              "      <td>Drivers in a Jerusalem taxi station threaten t...</td>\n",
              "      <td>The French Team is Stunned by Phelps and the 4...</td>\n",
              "      <td>Israel and the US behind the Georgian aggression</td>\n",
              "      <td>Do not believe TV neither Russian nor Georgian...</td>\n",
              "      <td>Riots are still going on in Montreal Canada be...</td>\n",
              "      <td>China to overtake US as largest manufacturer</td>\n",
              "      <td>War in South Ossetia PICS</td>\n",
              "      <td>Israeli Physicians Group Condemns State Torture</td>\n",
              "      <td>Russia has just beaten the United States over...</td>\n",
              "      <td>Perhaps the question about the Georgia  Russia...</td>\n",
              "      <td>Russia is so much better at war</td>\n",
              "      <td>So this is what its come to trading sex for food</td>\n",
              "      <td>11729.669922</td>\n",
              "      <td>11867.110352</td>\n",
              "      <td>11675.530273</td>\n",
              "      <td>11782.349609</td>\n",
              "      <td>183190000</td>\n",
              "      <td>11782.349609</td>\n",
              "      <td>11781.700195</td>\n",
              "      <td>11642.469727</td>\n",
              "    </tr>\n",
              "    <tr>\n",
              "      <th>2</th>\n",
              "      <td>2008-08-12</td>\n",
              "      <td>0</td>\n",
              "      <td>Remember that adorable 9yearold who sang at th...</td>\n",
              "      <td>Russia ends Georgia operation</td>\n",
              "      <td>If we had no sexual harassment we would have n...</td>\n",
              "      <td>AlQaeda is losing support in Iraq because of a...</td>\n",
              "      <td>Ceasefire in Georgia Putin Outmaneuvers the West</td>\n",
              "      <td>Why Microsoft and Intel tried to kill the XO 1...</td>\n",
              "      <td>Stratfor The RussoGeorgian War and the Balance...</td>\n",
              "      <td>Im Trying to Get a Sense of This Whole Georgia...</td>\n",
              "      <td>The US military was surprised by the timing an...</td>\n",
              "      <td>US Beats War Drum as Iran Dumps the Dollar</td>\n",
              "      <td>Gorbachev Georgian military attacked the South...</td>\n",
              "      <td>CNN use footage of Tskhinvali ruins to cover G...</td>\n",
              "      <td>Beginning a war as the Olympics were opening v...</td>\n",
              "      <td>55 pyramids as large as the Luxor stacked into...</td>\n",
              "      <td>The 11 Top Party Cities in the World</td>\n",
              "      <td>US troops still in Georgia did you know they w...</td>\n",
              "      <td>Why Russias response to Georgia was right</td>\n",
              "      <td>Gorbachev accuses US of making a serious blund...</td>\n",
              "      <td>Russia Georgia and NATO Cold War Two</td>\n",
              "      <td>Remember that adorable 62yearold who led your ...</td>\n",
              "      <td>War in Georgia The Israeli connection</td>\n",
              "      <td>All signs point to the US encouraging Georgia ...</td>\n",
              "      <td>Christopher King argues that the US and NATO a...</td>\n",
              "      <td>America The New Mexico</td>\n",
              "      <td>BBC NEWS  AsiaPacific  Extinction by man not c...</td>\n",
              "      <td>11781.700195</td>\n",
              "      <td>11782.349609</td>\n",
              "      <td>11601.519531</td>\n",
              "      <td>11642.469727</td>\n",
              "      <td>173590000</td>\n",
              "      <td>11642.469727</td>\n",
              "      <td>11632.809570</td>\n",
              "      <td>11532.959961</td>\n",
              "    </tr>\n",
              "    <tr>\n",
              "      <th>3</th>\n",
              "      <td>2008-08-13</td>\n",
              "      <td>0</td>\n",
              "      <td>US refuses Israel weapons to attack Iran report</td>\n",
              "      <td>When the president ordered to attack Tskhinval...</td>\n",
              "      <td>Israel clears troops who killed Reuters camer...</td>\n",
              "      <td>Britains policy of being tough on drugs is poi...</td>\n",
              "      <td>Body of 14 year old found in trunk Latest rans...</td>\n",
              "      <td>China has moved 10 million quake survivors int...</td>\n",
              "      <td>Bush announces Operation Get All Up In Russias...</td>\n",
              "      <td>Russian forces sink Georgian ships</td>\n",
              "      <td>The commander of a Navy air reconnaissance squ...</td>\n",
              "      <td>92 of CNN readers Russias actions in Georgia  ...</td>\n",
              "      <td>USA to send fleet into Black Sea to help Georg...</td>\n",
              "      <td>US warns against Israeli plan to strike agains...</td>\n",
              "      <td>In an intriguing cyberalliance two Estonian co...</td>\n",
              "      <td>The CNN Effect Georgia Schools Russia in Infor...</td>\n",
              "      <td>Why Russias response to Georgia was right</td>\n",
              "      <td>Elephants extinct by 2020</td>\n",
              "      <td>US humanitarian missions soon in Georgia  if R...</td>\n",
              "      <td>Georgias DDOS came from US sources</td>\n",
              "      <td>Russian convoy heads into Georgia violating truce</td>\n",
              "      <td>Israeli defence minister US against strike on ...</td>\n",
              "      <td>Gorbachev We Had No Choice</td>\n",
              "      <td>Witness Russian forces head towards Tbilisi in...</td>\n",
              "      <td>Quarter of Russians blame US for conflict poll</td>\n",
              "      <td>Georgian president  says US military will take...</td>\n",
              "      <td>2006 Nobel laureate Aleksander Solzhenitsyn ac...</td>\n",
              "      <td>11632.809570</td>\n",
              "      <td>11633.780273</td>\n",
              "      <td>11453.339844</td>\n",
              "      <td>11532.959961</td>\n",
              "      <td>182550000</td>\n",
              "      <td>11532.959961</td>\n",
              "      <td>11532.070312</td>\n",
              "      <td>11615.929688</td>\n",
              "    </tr>\n",
              "    <tr>\n",
              "      <th>4</th>\n",
              "      <td>2008-08-14</td>\n",
              "      <td>1</td>\n",
              "      <td>All the experts admit that we should legalise ...</td>\n",
              "      <td>War in South Osetia  89 pictures made by a Rus...</td>\n",
              "      <td>Swedish wrestler Ara Abrahamian throws away me...</td>\n",
              "      <td>Russia exaggerated the death toll in South Oss...</td>\n",
              "      <td>Missile That Killed 9 Inside Pakistan May Have...</td>\n",
              "      <td>Rushdie Condemns Random Houses Refusal to Publ...</td>\n",
              "      <td>Poland and US agree to missle defense deal Int...</td>\n",
              "      <td>Will the Russians conquer Tblisi Bet on it no ...</td>\n",
              "      <td>Russia exaggerating South Ossetian death toll ...</td>\n",
              "      <td>Musharraf expected to resign rather than face...</td>\n",
              "      <td>Moscow Made Plans Months Ago to Invade Georgia</td>\n",
              "      <td>Why Russias response to Georgia was right</td>\n",
              "      <td>Nigeria has handed over the potentially oilric...</td>\n",
              "      <td>The US and Poland have agreed a preliminary de...</td>\n",
              "      <td>Russia apparently is sabotaging infrastructure...</td>\n",
              "      <td>Bank analyst forecast Georgian crisis 2 days e...</td>\n",
              "      <td>Georgia confict could set back Russias US rela...</td>\n",
              "      <td>War in the Caucasus is as much the product of ...</td>\n",
              "      <td>Nonmedia photos of South OssetiaGeorgia conflict</td>\n",
              "      <td>Georgian TV reporter shot by Russian sniper du...</td>\n",
              "      <td>Saudi Arabia Mother moves to block child marriage</td>\n",
              "      <td>Taliban wages war on humanitarian aid workers</td>\n",
              "      <td>Russia World  can forget about Georgias territ...</td>\n",
              "      <td>Darfur rebels accuse Sudan of mounting major a...</td>\n",
              "      <td>Philippines  Peace Advocate say Muslims need a...</td>\n",
              "      <td>11532.070312</td>\n",
              "      <td>11718.280273</td>\n",
              "      <td>11450.889648</td>\n",
              "      <td>11615.929688</td>\n",
              "      <td>159790000</td>\n",
              "      <td>11615.929688</td>\n",
              "      <td>11611.209961</td>\n",
              "      <td>11659.900391</td>\n",
              "    </tr>\n",
              "  </tbody>\n",
              "</table>\n",
              "</div>"
            ],
            "text/plain": [
              "         Date  Label  ...        p-Open       p-Close\n",
              "0  2008-08-08      0  ...  11729.669922  11782.349609\n",
              "1  2008-08-11      1  ...  11781.700195  11642.469727\n",
              "2  2008-08-12      0  ...  11632.809570  11532.959961\n",
              "3  2008-08-13      0  ...  11532.070312  11615.929688\n",
              "4  2008-08-14      1  ...  11611.209961  11659.900391\n",
              "\n",
              "[5 rows x 35 columns]"
            ]
          },
          "metadata": {
            "tags": []
          },
          "execution_count": 409
        }
      ]
    },
    {
      "cell_type": "code",
      "metadata": {
        "id": "OxL49Oa-KCME",
        "outputId": "b7809b37-4d77-4fbe-fa42-8009842717a6",
        "colab": {
          "base_uri": "https://localhost:8080/",
          "height": 672
        }
      },
      "source": [
        "#spliting sentiment,stock price,target stock price for model\n",
        "df_num, df_y, df_sen = df.iloc[:,-8:-2],df.iloc[:,-2:], df.iloc[:,2:-8]\n",
        "# if you want label to predict uncomment this line of code. In this notebook I will not consider current days label to predict next day's change\n",
        "# df_y.insert(0,'Label',df.iloc[:,1])\n",
        "\n",
        "print(df_num.head(),df_num.shape,'\\n',df_sen,df_sen.shape,'\\n',df_y,df_y.shape)\n"
      ],
      "execution_count": null,
      "outputs": [
        {
          "output_type": "stream",
          "text": [
            "           Open          High  ...     Volume     Adj Close\n",
            "0  11432.089844  11759.959961  ...  212830000  11734.320312\n",
            "1  11729.669922  11867.110352  ...  183190000  11782.349609\n",
            "2  11781.700195  11782.349609  ...  173590000  11642.469727\n",
            "3  11632.809570  11633.780273  ...  182550000  11532.959961\n",
            "4  11532.070312  11718.280273  ...  159790000  11615.929688\n",
            "\n",
            "[5 rows x 6 columns] (1988, 6) \n",
            "                                                    Top1  ...                                              Top25\n",
            "0     Georgia downs two Russian warplanes as countri...  ...               No Help for Mexicos Kidnapping Surge\n",
            "1     Why wont America and Nato help us If they wont...  ...   So this is what its come to trading sex for food\n",
            "2     Remember that adorable 9yearold who sang at th...  ...  BBC NEWS  AsiaPacific  Extinction by man not c...\n",
            "3       US refuses Israel weapons to attack Iran report  ...  2006 Nobel laureate Aleksander Solzhenitsyn ac...\n",
            "4     All the experts admit that we should legalise ...  ...  Philippines  Peace Advocate say Muslims need a...\n",
            "...                                                 ...  ...                                                ...\n",
            "1983   avid Cameron to Resign as PM After EU Referendum  ...   Turkish man has been found guilty of insultin...\n",
            "1984  arclays and RBS shares suspended from trading ...  ...  akistani clerics declare transgender marriages...\n",
            "1985  500 Scientists To Australia If You Want To Sav...  ...  exicos security forces routinely use sexual to...\n",
            "1986                    xplosion At Airport In Istanbul  ...  iny New Zealand town with too many jobs launch...\n",
            "1987  amaica proposes marijuana dispensers for touri...  ...  aw Enforcement Sources Gun Used in Paris Terro...\n",
            "\n",
            "[1988 rows x 25 columns] (1988, 25) \n",
            "             p-Open       p-Close\n",
            "0     11729.669922  11782.349609\n",
            "1     11781.700195  11642.469727\n",
            "2     11632.809570  11532.959961\n",
            "3     11532.070312  11615.929688\n",
            "4     11611.209961  11659.900391\n",
            "...            ...           ...\n",
            "1983  17355.210938  17140.240234\n",
            "1984  17190.509766  17409.720703\n",
            "1985  17456.019531  17694.679688\n",
            "1986  17712.759766  17929.990234\n",
            "1987  17924.240234  17949.369141\n",
            "\n",
            "[1988 rows x 2 columns] (1988, 2)\n"
          ],
          "name": "stdout"
        }
      ]
    },
    {
      "cell_type": "code",
      "metadata": {
        "id": "h1iWRX1yLzVD"
      },
      "source": [
        " df_y['p-change'] = df_y['p-Close']-df_y['p-Open']"
      ],
      "execution_count": null,
      "outputs": []
    },
    {
      "cell_type": "code",
      "metadata": {
        "id": "aWuq28KqKGIQ",
        "outputId": "d3e60b44-579c-4082-ca19-07cd24df6b30",
        "colab": {
          "base_uri": "https://localhost:8080/",
          "height": 198
        }
      },
      "source": [
        "pd.DataFrame(df_y)\n",
        "del df_y['p-Close']\n",
        "del df_y['p-Open']\n",
        "df_y.head()"
      ],
      "execution_count": null,
      "outputs": [
        {
          "output_type": "execute_result",
          "data": {
            "text/html": [
              "<div>\n",
              "<style scoped>\n",
              "    .dataframe tbody tr th:only-of-type {\n",
              "        vertical-align: middle;\n",
              "    }\n",
              "\n",
              "    .dataframe tbody tr th {\n",
              "        vertical-align: top;\n",
              "    }\n",
              "\n",
              "    .dataframe thead th {\n",
              "        text-align: right;\n",
              "    }\n",
              "</style>\n",
              "<table border=\"1\" class=\"dataframe\">\n",
              "  <thead>\n",
              "    <tr style=\"text-align: right;\">\n",
              "      <th></th>\n",
              "      <th>p-change</th>\n",
              "    </tr>\n",
              "  </thead>\n",
              "  <tbody>\n",
              "    <tr>\n",
              "      <th>0</th>\n",
              "      <td>52.679687</td>\n",
              "    </tr>\n",
              "    <tr>\n",
              "      <th>1</th>\n",
              "      <td>-139.230468</td>\n",
              "    </tr>\n",
              "    <tr>\n",
              "      <th>2</th>\n",
              "      <td>-99.849609</td>\n",
              "    </tr>\n",
              "    <tr>\n",
              "      <th>3</th>\n",
              "      <td>83.859376</td>\n",
              "    </tr>\n",
              "    <tr>\n",
              "      <th>4</th>\n",
              "      <td>48.690430</td>\n",
              "    </tr>\n",
              "  </tbody>\n",
              "</table>\n",
              "</div>"
            ],
            "text/plain": [
              "     p-change\n",
              "0   52.679687\n",
              "1 -139.230468\n",
              "2  -99.849609\n",
              "3   83.859376\n",
              "4   48.690430"
            ]
          },
          "metadata": {
            "tags": []
          },
          "execution_count": 53
        }
      ]
    },
    {
      "cell_type": "code",
      "metadata": {
        "id": "-deakF_N48ri",
        "outputId": "2f2d4eb1-d831-4955-9366-3a75077e302d",
        "colab": {
          "base_uri": "https://localhost:8080/",
          "height": 354
        }
      },
      "source": [
        "#get an insight of df_y and classify df_y for better accuracy\n",
        "import seaborn as sns\n",
        "sns.distplot(df_y['p-change'])"
      ],
      "execution_count": null,
      "outputs": [
        {
          "output_type": "stream",
          "text": [
            "/usr/local/lib/python3.6/dist-packages/seaborn/distributions.py:2551: FutureWarning: `distplot` is a deprecated function and will be removed in a future version. Please adapt your code to use either `displot` (a figure-level function with similar flexibility) or `histplot` (an axes-level function for histograms).\n",
            "  warnings.warn(msg, FutureWarning)\n"
          ],
          "name": "stderr"
        },
        {
          "output_type": "execute_result",
          "data": {
            "text/plain": [
              "<matplotlib.axes._subplots.AxesSubplot at 0x7f27b4c39a90>"
            ]
          },
          "metadata": {
            "tags": []
          },
          "execution_count": 11
        },
        {
          "output_type": "display_data",
          "data": {
            "image/png": "[encoded data removed]",
            "text/plain": [
              "<Figure size 432x288 with 1 Axes>"
            ]
          },
          "metadata": {
            "tags": [],
            "needs_background": "light"
          }
        }
      ]
    },
    {
      "cell_type": "code",
      "metadata": {
        "id": "vJ0QXHlZ5Ziy",
        "outputId": "d31e8b2b-76a1-4121-f1d3-908b2d154a51",
        "colab": {
          "base_uri": "https://localhost:8080/",
          "height": 145
        }
      },
      "source": [
        "def label_surplus(row):\n",
        "  if row['p-change']>0:\n",
        "    return 0.9 #label-smoothing\n",
        "  else:\n",
        "    return 0.1 #label-smoothing\n",
        "df_y['plus_or_minus'] = df_y.apply (lambda row: label_surplus(row), axis=1)\n",
        "up_down = np.delete(np.array(df_y),0,1)\n",
        "print(up_down,up_down_pred.shape)"
      ],
      "execution_count": null,
      "outputs": [
        {
          "output_type": "stream",
          "text": [
            "[[0.9]\n",
            " [0.1]\n",
            " [0.1]\n",
            " ...\n",
            " [0.9]\n",
            " [0.9]\n",
            " [0.9]] (None, 1)\n"
          ],
          "name": "stdout"
        }
      ]
    },
    {
      "cell_type": "code",
      "metadata": {
        "id": "VGkDO3hE_y9k",
        "outputId": "063577b3-1a27-4fac-acc7-a9a47b48a7a8",
        "colab": {
          "base_uri": "https://localhost:8080/",
          "height": 145
        }
      },
      "source": [
        "def label_category(row):\n",
        "  for i in range(1,25):\n",
        "    if row['p-change']<=-240:\n",
        "      return -25\n",
        "    if row['p-change']>240:\n",
        "      return 25\n",
        "    if row['p-change']>-(i*10) and row['p-change']<=-((i-1)*10):\n",
        "      return -i\n",
        "    if row['p-change']<=(i*10) and row['p-change']>((i-1)*10):\n",
        "      return i\n",
        "df_y['plus_or_minus'] = df_y.apply (lambda row: label_category(row), axis=1)\n",
        "net = np.delete(np.array(df_y),0,1)\n",
        "print(net)"
      ],
      "execution_count": null,
      "outputs": [
        {
          "output_type": "stream",
          "text": [
            "[[  6.]\n",
            " [-14.]\n",
            " [-10.]\n",
            " ...\n",
            " [ 24.]\n",
            " [ 22.]\n",
            " [  3.]]\n"
          ],
          "name": "stdout"
        }
      ]
    },
    {
      "cell_type": "markdown",
      "metadata": {
        "id": "sTh1mnJw23mR"
      },
      "source": [
        "#Use sentence-transformers&DNN to convert news article to score(sentiment analysis)"
      ]
    },
    {
      "cell_type": "markdown",
      "metadata": {
        "id": "rM4Wl8nZz5nU"
      },
      "source": [
        "#### 1. Use sentence_transformers  pretrained by RoBERTa to describe each sentences in df_sen to embedded vector. => Input embedded sentences to RNN layer to output features (FEATURE_DIM dimension)\n",
        "#### 2. Use DNN to output features (FEATURE_DIM) of number from df_num\n",
        "#### 3. Use each features as input of second DNN to predict the up_down_pred & net_pred\n",
        "(up_down_pred: 1 if stock price goes up next day else 0)\n",
        "(net_pred: net_pred * 10 accords to the net change of next day's stock price)\n",
        "\n",
        "##### hyperparams : FEATURE_DIM"
      ]
    },
    {
      "cell_type": "code",
      "metadata": {
        "id": "oXWgf3nc0CNc",
        "outputId": "6292c116-ba17-439a-994a-b08cc5522248",
        "colab": {
          "base_uri": "https://localhost:8080/",
          "height": 854
        }
      },
      "source": [
        "import tensorflow as tf\n",
        "import tensorflow.keras.layers as L\n",
        "from sklearn.model_selection import train_test_split\n",
        "!pip install -U sentence-transformers\n",
        "from sentence_transformers import SentenceTransformer\n",
        "model = SentenceTransformer('roberta-base-nli-stsb-mean-tokens')"
      ],
      "execution_count": null,
      "outputs": [
        {
          "output_type": "stream",
          "text": [
            "Collecting sentence-transformers\n",
            "\u001b[?25l  Downloading https://files.pythonhosted.org/packages/ce/4b/0add07b1eebbbe83e77fb5ac4e72e87046c3fc2c9cb16f7d1cd8c6921a1d/sentence-transformers-0.3.7.2.tar.gz (59kB)\n",
            "\u001b[K     |████████████████████████████████| 61kB 2.7MB/s \n",
            "\u001b[?25hCollecting transformers<3.4.0,>=3.1.0\n",
            "\u001b[?25l  Downloading https://files.pythonhosted.org/packages/19/22/aff234f4a841f8999e68a7a94bdd4b60b4cebcfeca5d67d61cd08c9179de/transformers-3.3.1-py3-none-any.whl (1.1MB)\n",
            "\u001b[K     |████████████████████████████████| 1.1MB 5.8MB/s \n",
            "\u001b[?25hRequirement already satisfied, skipping upgrade: tqdm in /usr/local/lib/python3.6/dist-packages (from sentence-transformers) (4.41.1)\n",
            "Requirement already satisfied, skipping upgrade: torch>=1.2.0 in /usr/local/lib/python3.6/dist-packages (from sentence-transformers) (1.6.0+cu101)\n",
            "Requirement already satisfied, skipping upgrade: numpy in /usr/local/lib/python3.6/dist-packages (from sentence-transformers) (1.18.5)\n",
            "Requirement already satisfied, skipping upgrade: scikit-learn in /usr/local/lib/python3.6/dist-packages (from sentence-transformers) (0.22.2.post1)\n",
            "Requirement already satisfied, skipping upgrade: scipy in /usr/local/lib/python3.6/dist-packages (from sentence-transformers) (1.4.1)\n",
            "Requirement already satisfied, skipping upgrade: nltk in /usr/local/lib/python3.6/dist-packages (from sentence-transformers) (3.2.5)\n",
            "Collecting sentencepiece!=0.1.92\n",
            "\u001b[?25l  Downloading https://files.pythonhosted.org/packages/d4/a4/d0a884c4300004a78cca907a6ff9a5e9fe4f090f5d95ab341c53d28cbc58/sentencepiece-0.1.91-cp36-cp36m-manylinux1_x86_64.whl (1.1MB)\n",
            "\u001b[K     |████████████████████████████████| 1.1MB 12.6MB/s \n",
            "\u001b[?25hRequirement already satisfied, skipping upgrade: regex!=2019.12.17 in /usr/local/lib/python3.6/dist-packages (from transformers<3.4.0,>=3.1.0->sentence-transformers) (2019.12.20)\n",
            "Requirement already satisfied, skipping upgrade: requests in /usr/local/lib/python3.6/dist-packages (from transformers<3.4.0,>=3.1.0->sentence-transformers) (2.23.0)\n",
            "Requirement already satisfied, skipping upgrade: dataclasses; python_version < \"3.7\" in /usr/local/lib/python3.6/dist-packages (from transformers<3.4.0,>=3.1.0->sentence-transformers) (0.7)\n",
            "Requirement already satisfied, skipping upgrade: packaging in /usr/local/lib/python3.6/dist-packages (from transformers<3.4.0,>=3.1.0->sentence-transformers) (20.4)\n",
            "Collecting tokenizers==0.8.1.rc2\n",
            "\u001b[?25l  Downloading https://files.pythonhosted.org/packages/80/83/8b9fccb9e48eeb575ee19179e2bdde0ee9a1904f97de5f02d19016b8804f/tokenizers-0.8.1rc2-cp36-cp36m-manylinux1_x86_64.whl (3.0MB)\n",
            "\u001b[K     |████████████████████████████████| 3.0MB 28.4MB/s \n",
            "\u001b[?25hRequirement already satisfied, skipping upgrade: filelock in /usr/local/lib/python3.6/dist-packages (from transformers<3.4.0,>=3.1.0->sentence-transformers) (3.0.12)\n",
            "Collecting sacremoses\n",
            "\u001b[?25l  Downloading https://files.pythonhosted.org/packages/7d/34/09d19aff26edcc8eb2a01bed8e98f13a1537005d31e95233fd48216eed10/sacremoses-0.0.43.tar.gz (883kB)\n",
            "\u001b[K     |████████████████████████████████| 890kB 30.5MB/s \n",
            "\u001b[?25hRequirement already satisfied, skipping upgrade: future in /usr/local/lib/python3.6/dist-packages (from torch>=1.2.0->sentence-transformers) (0.16.0)\n",
            "Requirement already satisfied, skipping upgrade: joblib>=0.11 in /usr/local/lib/python3.6/dist-packages (from scikit-learn->sentence-transformers) (0.16.0)\n",
            "Requirement already satisfied, skipping upgrade: six in /usr/local/lib/python3.6/dist-packages (from nltk->sentence-transformers) (1.15.0)\n",
            "Requirement already satisfied, skipping upgrade: urllib3!=1.25.0,!=1.25.1,<1.26,>=1.21.1 in /usr/local/lib/python3.6/dist-packages (from requests->transformers<3.4.0,>=3.1.0->sentence-transformers) (1.24.3)\n",
            "Requirement already satisfied, skipping upgrade: chardet<4,>=3.0.2 in /usr/local/lib/python3.6/dist-packages (from requests->transformers<3.4.0,>=3.1.0->sentence-transformers) (3.0.4)\n",
            "Requirement already satisfied, skipping upgrade: certifi>=2017.4.17 in /usr/local/lib/python3.6/dist-packages (from requests->transformers<3.4.0,>=3.1.0->sentence-transformers) (2020.6.20)\n",
            "Requirement already satisfied, skipping upgrade: idna<3,>=2.5 in /usr/local/lib/python3.6/dist-packages (from requests->transformers<3.4.0,>=3.1.0->sentence-transformers) (2.10)\n",
            "Requirement already satisfied, skipping upgrade: pyparsing>=2.0.2 in /usr/local/lib/python3.6/dist-packages (from packaging->transformers<3.4.0,>=3.1.0->sentence-transformers) (2.4.7)\n",
            "Requirement already satisfied, skipping upgrade: click in /usr/local/lib/python3.6/dist-packages (from sacremoses->transformers<3.4.0,>=3.1.0->sentence-transformers) (7.1.2)\n",
            "Building wheels for collected packages: sentence-transformers, sacremoses\n",
            "  Building wheel for sentence-transformers (setup.py) ... \u001b[?25l\u001b[?25hdone\n",
            "  Created wheel for sentence-transformers: filename=sentence_transformers-0.3.7.2-cp36-none-any.whl size=91190 sha256=397191a9e42d57a9cc3b476f3f3f7c904599924de9c36155627590b9e70e60dc\n",
            "  Stored in directory: /root/.cache/pip/wheels/4b/8f/23/7f93e91176acc7c2d651b54fa9f01e3624a47904145c4d133e\n",
            "  Building wheel for sacremoses (setup.py) ... \u001b[?25l\u001b[?25hdone\n",
            "  Created wheel for sacremoses: filename=sacremoses-0.0.43-cp36-none-any.whl size=893257 sha256=46f988fe24109fb166a429e468788424fd6bf2abb1190911d8a34ac36a97c358\n",
            "  Stored in directory: /root/.cache/pip/wheels/29/3c/fd/7ce5c3f0666dab31a50123635e6fb5e19ceb42ce38d4e58f45\n",
            "Successfully built sentence-transformers sacremoses\n",
            "Installing collected packages: sentencepiece, tokenizers, sacremoses, transformers, sentence-transformers\n",
            "Successfully installed sacremoses-0.0.43 sentence-transformers-0.3.7.2 sentencepiece-0.1.91 tokenizers-0.8.1rc2 transformers-3.3.1\n"
          ],
          "name": "stdout"
        },
        {
          "output_type": "stream",
          "text": [
            "100%|██████████| 459M/459M [00:26<00:00, 17.6MB/s]\n"
          ],
          "name": "stderr"
        }
      ]
    },
    {
      "cell_type": "code",
      "metadata": {
        "id": "JJ69-mrZKl-1"
      },
      "source": [
        "df_sen_flatten = pd.DataFrame(df_sen).to_numpy().reshape(df_sen.shape[0]*df_sen.shape[1],1)"
      ],
      "execution_count": null,
      "outputs": []
    },
    {
      "cell_type": "code",
      "metadata": {
        "id": "RcvwfM9BOTSc"
      },
      "source": [
        "# Use sentence_transformers pretrained by RoBERTa to describe each sentences in df_sen to embedded vector.\n",
        "embedded_sentences=[]\n",
        "for txt in df_sen_flatten:\n",
        "  sentence_embeddings = model.encode(txt)\n",
        "  embedded_sentences.append(sentence_embeddings)\n",
        "#this code should be improved => takes too many time"
      ],
      "execution_count": null,
      "outputs": []
    },
    {
      "cell_type": "code",
      "metadata": {
        "id": "mr8obKj9RQWT",
        "outputId": "4af5a750-7197-4ef0-e57d-ccf210014a52",
        "colab": {
          "base_uri": "https://localhost:8080/",
          "height": 35
        }
      },
      "source": [
        "embedded_sentences = np.array(embedded_sentences)\n",
        "embedded_sentences = embedded_sentences.reshape((df_sen.shape[0],df_sen.shape[1],embedded_sentences.shape[-1]))\n",
        "print(embedded_sentences.shape,embedded_sentences.dtype,df_num.shape)"
      ],
      "execution_count": null,
      "outputs": [
        {
          "output_type": "stream",
          "text": [
            "(1988, 25, 768) float32 (1988, 6)\n"
          ],
          "name": "stdout"
        }
      ]
    },
    {
      "cell_type": "code",
      "metadata": {
        "id": "H2OSMANx0ZOL"
      },
      "source": [
        "#Build model\n",
        "\n",
        "FEATURE_DIM = 4  #300->56.7\n",
        "NUM_HIDDEN_LAYER = 1\n",
        "ES_HIDDEN_LAYER = 2 #ES = Embedded Sentences\n",
        "CONCAT_HIDDEN_LAYER = 1\n",
        "NUM_DROPOUT = 0.55   #0.45\n",
        "ES_DROPOUT = 0.55    #0.45\n",
        "CON_DROPOUT = 0.45  #0.35\n",
        "import tensorflow.keras as K\n",
        "from tensorflow.keras.regularizers import l2\n",
        "regularizer = l2(0.005)  #0.005\n",
        "initializer = tf.keras.initializers.HeNormal()\n",
        "\n",
        "\n",
        "number_input = K.Input(shape=(6),name='number')\n",
        "es_input = K.Input(shape=(embedded_sentences.shape[1],embedded_sentences.shape[-1]),name='embedded_sentence')\n",
        "\n",
        "for i in range(NUM_HIDDEN_LAYER):\n",
        "  if i==0:\n",
        "    num_hidden = L.Dense(64,kernel_initializer = initializer,kernel_regularizer = regularizer,name='num_hidden_0')(number_input)\n",
        "    num_batchnorm = L.BatchNormalization(name='num_batchnorm_0')(num_hidden)\n",
        "    num_dropout = L.Dropout(NUM_DROPOUT,name='num_dropout_0')(num_batchnorm)\n",
        "\n",
        "  else:\n",
        "    num_hidden = L.Dense(64,kernel_initializer = initializer,kernel_regularizer = regularizer,name='num_hidden_' + str(i))(num_dropout)\n",
        "    num_batchnorm = L.BatchNormalization(name='num_batchnorm_' + str(i))(num_hidden)\n",
        "    num_dropout = L.Dropout(NUM_DROPOUT,name='num_dropout_' + str(i))(num_batchnorm)\n",
        "\n",
        "number_features = L.Dense(FEATURE_DIM,kernel_initializer = initializer,kernel_regularizer = regularizer)(num_dropout)\n",
        "\n",
        "for i in range(ES_HIDDEN_LAYER):\n",
        "  if i==0:\n",
        "    es_hidden = L.Bidirectional(L.LSTM(16,kernel_initializer = initializer,kernel_regularizer = regularizer,return_sequences=True),name='es_hidden_0')(es_input)\n",
        "    es_dropout = L.Dropout(ES_DROPOUT,name='es_dropout_0')(es_hidden)\n",
        " \n",
        "  else:\n",
        "    es_hidden = L.Bidirectional(L.LSTM(16,kernel_initializer = initializer,kernel_regularizer = regularizer,return_sequences=True),name='es_hidden_' + str(i))(es_dropout)\n",
        "    es_dropout = L.Dropout(ES_DROPOUT,name='es_dropout_' + str(i))(es_hidden)\n",
        "\n",
        "\n",
        "es_features = L.Bidirectional(L.LSTM(FEATURE_DIM,kernel_initializer = initializer,kernel_regularizer = regularizer))(es_dropout)\n",
        "\n",
        "concat = L.concatenate([number_features,es_features])\n",
        "\n",
        "for i in range(CONCAT_HIDDEN_LAYER):\n",
        "  if i==0:\n",
        "    concat_hidden = L.Dense(64,kernel_initializer = initializer,kernel_regularizer = regularizer,name='concat_hidden_0')(concat)\n",
        "    concat_batchnorm = L.BatchNormalization(name='concat_batchnorm_0')(concat_hidden)\n",
        "    concat_dropout = L.Dropout(CON_DROPOUT,name='concat_dropout_0')(concat_batchnorm)\n",
        "\n",
        "  else:\n",
        "    concat_hidden = L.Dense(64,kernel_initializer = initializer,kernel_regularizer = regularizer,name='concat_hidden_' + str(i))(concat_dropout)\n",
        "    concat_batchnorm = L.BatchNormalization(name='concat_batchnorm_' + str(i))(concat_hidden)\n",
        "    concat_dropout = L.Dropout(CON_DROPOUT,name='concat_dropout_' + str(i))(concat_batchnorm)\n",
        "\n",
        "net_pred = L.Dense(1,activation='relu')(concat_dropout)\n",
        "up_down_pred = L.Dense(1,activation='sigmoid')(concat_dropout)\n",
        "\n",
        "fin_model = K.Model(\n",
        "    inputs=[number_input,es_input],\n",
        "    outputs=[net_pred,up_down_pred]\n",
        ")"
      ],
      "execution_count": null,
      "outputs": []
    },
    {
      "cell_type": "code",
      "metadata": {
        "id": "DDxFxTy7OO_5",
        "outputId": "db5a1a26-ecf1-4c3f-d92d-6c4fc8b71bfd",
        "colab": {
          "base_uri": "https://localhost:8080/",
          "height": 799
        }
      },
      "source": [
        "fin_model.summary()"
      ],
      "execution_count": null,
      "outputs": [
        {
          "output_type": "stream",
          "text": [
            "Model: \"functional_3\"\n",
            "__________________________________________________________________________________________________\n",
            "Layer (type)                    Output Shape         Param #     Connected to                     \n",
            "==================================================================================================\n",
            "embedded_sentence (InputLayer)  [(None, 25, 768)]    0                                            \n",
            "__________________________________________________________________________________________________\n",
            "number (InputLayer)             [(None, 6)]          0                                            \n",
            "__________________________________________________________________________________________________\n",
            "es_hidden_0 (Bidirectional)     (None, 25, 32)       100480      embedded_sentence[0][0]          \n",
            "__________________________________________________________________________________________________\n",
            "num_hidden_0 (Dense)            (None, 64)           448         number[0][0]                     \n",
            "__________________________________________________________________________________________________\n",
            "es_dropout_0 (Dropout)          (None, 25, 32)       0           es_hidden_0[0][0]                \n",
            "__________________________________________________________________________________________________\n",
            "num_batchnorm_0 (BatchNormaliza (None, 64)           256         num_hidden_0[0][0]               \n",
            "__________________________________________________________________________________________________\n",
            "es_hidden_1 (Bidirectional)     (None, 25, 32)       6272        es_dropout_0[0][0]               \n",
            "__________________________________________________________________________________________________\n",
            "num_dropout_0 (Dropout)         (None, 64)           0           num_batchnorm_0[0][0]            \n",
            "__________________________________________________________________________________________________\n",
            "es_dropout_1 (Dropout)          (None, 25, 32)       0           es_hidden_1[0][0]                \n",
            "__________________________________________________________________________________________________\n",
            "dense_3 (Dense)                 (None, 4)            260         num_dropout_0[0][0]              \n",
            "__________________________________________________________________________________________________\n",
            "bidirectional_1 (Bidirectional) (None, 8)            1184        es_dropout_1[0][0]               \n",
            "__________________________________________________________________________________________________\n",
            "concatenate_1 (Concatenate)     (None, 12)           0           dense_3[0][0]                    \n",
            "                                                                 bidirectional_1[0][0]            \n",
            "__________________________________________________________________________________________________\n",
            "concat_hidden_0 (Dense)         (None, 64)           832         concatenate_1[0][0]              \n",
            "__________________________________________________________________________________________________\n",
            "concat_batchnorm_0 (BatchNormal (None, 64)           256         concat_hidden_0[0][0]            \n",
            "__________________________________________________________________________________________________\n",
            "concat_dropout_0 (Dropout)      (None, 64)           0           concat_batchnorm_0[0][0]         \n",
            "__________________________________________________________________________________________________\n",
            "dense_4 (Dense)                 (None, 1)            65          concat_dropout_0[0][0]           \n",
            "__________________________________________________________________________________________________\n",
            "dense_5 (Dense)                 (None, 1)            65          concat_dropout_0[0][0]           \n",
            "==================================================================================================\n",
            "Total params: 110,118\n",
            "Trainable params: 109,862\n",
            "Non-trainable params: 256\n",
            "__________________________________________________________________________________________________\n"
          ],
          "name": "stdout"
        }
      ]
    },
    {
      "cell_type": "code",
      "metadata": {
        "id": "eW0i3QisRiLW",
        "outputId": "107334a5-cc7b-4d69-b40e-e3e1c38fc4fa",
        "colab": {
          "base_uri": "https://localhost:8080/",
          "height": 1000
        }
      },
      "source": [
        "tf.keras.utils.plot_model(fin_model, \"fin_model.png\", show_shapes=True)"
      ],
      "execution_count": null,
      "outputs": [
        {
          "output_type": "execute_result",
          "data": {
            "image/png": "[encoded data removed]",
            "text/plain": [
              "<IPython.core.display.Image object>"
            ]
          },
          "metadata": {
            "tags": []
          },
          "execution_count": 273
        }
      ]
    },
    {
      "cell_type": "code",
      "metadata": {
        "id": "lPBjsSXABvZe"
      },
      "source": [
        "#split data to train/dev\n",
        "from sklearn import preprocessing\n",
        "\n",
        "sen_train, sen_dev = train_test_split(embedded_sentences,test_size=0.1)\n",
        "num_train, num_dev = train_test_split(df_num,test_size=0.1)\n",
        "\n",
        "x = num_train.values \n",
        "y = num_dev.values\n",
        "min_max_scaler = preprocessing.MinMaxScaler()\n",
        "x_scaled = min_max_scaler.fit_transform(x)\n",
        "num_train = pd.DataFrame(x_scaled)\n",
        "num_dev = pd.DataFrame(min_max_scaler.transform(y))\n",
        "\n",
        "up_down_pred_train, up_down_pred_dev = train_test_split(up_down,test_size=0.1)\n",
        "net_pred_train, net_pred_dev = train_test_split(net+25,test_size=0.1) "
      ],
      "execution_count": null,
      "outputs": []
    },
    {
      "cell_type": "code",
      "metadata": {
        "id": "EcyM7LovYoZ9"
      },
      "source": [
        "print(num_train,sen_train,net_pred_train)"
      ],
      "execution_count": null,
      "outputs": []
    },
    {
      "cell_type": "code",
      "metadata": {
        "id": "jkKjq7d1Y8GB",
        "outputId": "9c6e4494-bff2-4b8b-b242-43fa29cf7616",
        "colab": {
          "base_uri": "https://localhost:8080/",
          "height": 35
        }
      },
      "source": [
        "df_sen.iloc[1,1]"
      ],
      "execution_count": null,
      "outputs": [
        {
          "output_type": "execute_result",
          "data": {
            "application/vnd.google.colaboratory.intrinsic+json": {
              "type": "string"
            },
            "text/plain": [
              "'Bush puts foot down on Georgian conflict'"
            ]
          },
          "metadata": {
            "tags": []
          },
          "execution_count": 32
        }
      ]
    },
    {
      "cell_type": "code",
      "metadata": {
        "id": "ndq8um_4Y6iX",
        "outputId": "21bd27cb-e763-4a24-dda9-d13f0e5f583f",
        "colab": {
          "base_uri": "https://localhost:8080/",
          "height": 35
        }
      },
      "source": [
        "sentence_embeddings_1 = model.encode('Bush puts foot down on Georgian conflict')\n",
        "sentence_embeddings_2 = embedded_sentences[1,1,:]\n",
        "print(len(sentence_embeddings_1),np.count_nonzero(sentence_embeddings_1==sentence_embeddings_2))"
      ],
      "execution_count": null,
      "outputs": [
        {
          "output_type": "stream",
          "text": [
            "768 768\n"
          ],
          "name": "stdout"
        }
      ]
    },
    {
      "cell_type": "code",
      "metadata": {
        "id": "JjS1V-tsZkgg",
        "outputId": "ac05db29-6d6c-4d2c-b5db-4d320a395cee",
        "colab": {
          "base_uri": "https://localhost:8080/",
          "height": 54
        }
      },
      "source": [
        "tf.keras.backend.clear_session()\n",
        "\n",
        "class PrintDot(K.callbacks.Callback):\n",
        "  def on_epoch_end(self,epoch,logs):\n",
        "    if epoch%100 ==0 : print(' ')\n",
        "    print('.',end=' ')\n",
        "\n",
        "lr_schedule = K.callbacks.LearningRateScheduler(\n",
        "    lambda epoch: 1e-6 * 10**(epoch/20)\n",
        ")\n",
        "\n",
        "\n",
        "fin_model.compile(optimizer=tf.keras.optimizers.Adam(lr=0.727e-2),loss=['mean_squared_error','binary_crossentropy'],metrics=['mse'])\n",
        "history = fin_model.fit(x=[num_train,sen_train],y=[net_pred_train,up_down_pred_train],batch_size=64,epochs=100,verbose=0,validation_split=0.1,callbacks=[PrintDot()])\n",
        "#callbacks=[tf.keras.callbacks.ReduceLROnPlateau(patience=5),tf.keras.callbacks.ModelCheckpoint('model.h5',save_best_only=True),tf.keras.callbacks.EarlyStopping(patience=10,restore_best_weights=True)]"
      ],
      "execution_count": null,
      "outputs": [
        {
          "output_type": "stream",
          "text": [
            " \n",
            ". . . . . . . . . . . . . . . . . . . . . . . . . . . . . . . . . . . . . . . . . . . . . . . . . . . . . . . . . . . . . . . . . . . . . . . . . . . . . . . . . . . . . . . . . . . . . . . . . . . . "
          ],
          "name": "stdout"
        }
      ]
    },
    {
      "cell_type": "code",
      "metadata": {
        "id": "I2IjukNLb2r_"
      },
      "source": [
        "%matplotlib inline\n",
        "\n",
        "import matplotlib.image as mpimg\n",
        "import matplotlib.pyplot as plt"
      ],
      "execution_count": null,
      "outputs": []
    },
    {
      "cell_type": "code",
      "metadata": {
        "id": "RnsZ_WFebrh2",
        "outputId": "cbe21fee-aae7-4c76-fd05-3eb536395003",
        "colab": {
          "base_uri": "https://localhost:8080/",
          "height": 345
        }
      },
      "source": [
        "#checkin best learning rate for optimizer => about 0.5e-2\n",
        "plt.semilogx(history.history[\"lr\"], history.history[\"loss\"])\n",
        "plt.axis([1e-4, 0, 10, 300])"
      ],
      "execution_count": null,
      "outputs": [
        {
          "output_type": "stream",
          "text": [
            "/usr/local/lib/python3.6/dist-packages/ipykernel_launcher.py:3: UserWarning: Attempted to set non-positive right xlim on a log-scaled axis.\n",
            "Invalid limit will be ignored.\n",
            "  This is separate from the ipykernel package so we can avoid doing imports until\n"
          ],
          "name": "stderr"
        },
        {
          "output_type": "execute_result",
          "data": {
            "text/plain": [
              "(0.0001, 0.15757960783506433, 10.0, 300.0)"
            ]
          },
          "metadata": {
            "tags": []
          },
          "execution_count": 103
        },
        {
          "output_type": "display_data",
          "data": {
            "image/png": "[encoded data removed]",
            "text/plain": [
              "<Figure size 432x288 with 1 Axes>"
            ]
          },
          "metadata": {
            "tags": [],
            "needs_background": "light"
          }
        }
      ]
    },
    {
      "cell_type": "code",
      "metadata": {
        "id": "O5HD6kP7fcQ4",
        "outputId": "557c6f31-a0dc-4d95-8e8c-fdf473db9ccf",
        "colab": {
          "base_uri": "https://localhost:8080/",
          "height": 345
        }
      },
      "source": [
        "#checkin best learning rate for optimizer\n",
        "plt.semilogx(history.history[\"lr\"], history.history[\"dense_2_mse\"])\n",
        "plt.axis([1e-6, 0, 0.15, 0.3])"
      ],
      "execution_count": null,
      "outputs": [
        {
          "output_type": "stream",
          "text": [
            "/usr/local/lib/python3.6/dist-packages/ipykernel_launcher.py:3: UserWarning: Attempted to set non-positive right xlim on a log-scaled axis.\n",
            "Invalid limit will be ignored.\n",
            "  This is separate from the ipykernel package so we can avoid doing imports until\n"
          ],
          "name": "stderr"
        },
        {
          "output_type": "execute_result",
          "data": {
            "text/plain": [
              "(1e-06, 0.15757960783506433, 0.15, 0.3)"
            ]
          },
          "metadata": {
            "tags": []
          },
          "execution_count": 105
        },
        {
          "output_type": "display_data",
          "data": {
            "image/png": "[encoded data removed]",
            "text/plain": [
              "<Figure size 432x288 with 1 Axes>"
            ]
          },
          "metadata": {
            "tags": [],
            "needs_background": "light"
          }
        }
      ]
    },
    {
      "cell_type": "code",
      "metadata": {
        "id": "VS4uB9PupjbD",
        "outputId": "2b01f77a-3112-4092-e864-e8397fd98e1b",
        "colab": {
          "base_uri": "https://localhost:8080/",
          "height": 299
        }
      },
      "source": [
        "\n",
        "\n",
        "loss = history.history['loss']\n",
        "val_loss = history.history['val_loss']\n",
        "\n",
        "epochs = range(len(loss))\n",
        "\n",
        "\n",
        "# Plot training and validation loss per epoch\n",
        "\n",
        "plt.plot(epochs, loss, 'r', \"Training Loss\")\n",
        "plt.plot(epochs, val_loss, 'b', \"Validation Loss\")\n",
        "plt.axis([20, 100, 0, 250])\n",
        "\n",
        "plt.title('Training and validation loss')"
      ],
      "execution_count": null,
      "outputs": [
        {
          "output_type": "execute_result",
          "data": {
            "text/plain": [
              "Text(0.5, 1.0, 'Training and validation loss')"
            ]
          },
          "metadata": {
            "tags": []
          },
          "execution_count": 282
        },
        {
          "output_type": "display_data",
          "data": {
            "image/png": "[encoded data removed]",
            "text/plain": [
              "<Figure size 432x288 with 1 Axes>"
            ]
          },
          "metadata": {
            "tags": [],
            "needs_background": "light"
          }
        }
      ]
    },
    {
      "cell_type": "code",
      "metadata": {
        "id": "3dbipZe5cvkP",
        "outputId": "3deb1e0a-d069-4906-e46f-71e090def4b9",
        "colab": {
          "base_uri": "https://localhost:8080/",
          "height": 35
        }
      },
      "source": [
        "prediction = fin_model.predict([num_dev,sen_dev])[0] #model seems to be predicting well at net_pred so use threshold 25 to predict if it rised or not\n",
        "prediction = tf.greater(prediction, 25)\n",
        "y_dev_boolean = tf.greater(np.array(up_down_pred_dev,dtype='float32'),0.5)\n",
        "plus_minus = []\n",
        "for i in range(up_down_pred_dev.shape[0]):\n",
        "  if prediction[i]==y_dev_boolean[i]:\n",
        "    plus_minus.append('Success')\n",
        "  else:\n",
        "    plus_minus.append('Fail')\n",
        "print('Accuracy of predicting +/- is ',(plus_minus.count('Success')*100)/len(plus_minus),'%')"
      ],
      "execution_count": null,
      "outputs": [
        {
          "output_type": "stream",
          "text": [
            "Accuracy of predicting +/- is  54.2713567839196 %\n"
          ],
          "name": "stdout"
        }
      ]
    },
    {
      "cell_type": "code",
      "metadata": {
        "id": "dyIe9SIzM3Ia",
        "outputId": "7c63dfb5-6a1c-4979-aee9-93fd8d9380bc",
        "colab": {
          "base_uri": "https://localhost:8080/",
          "height": 35
        }
      },
      "source": [
        "print(len(prediction),len(y_dev_boolean))"
      ],
      "execution_count": null,
      "outputs": [
        {
          "output_type": "stream",
          "text": [
            "199 199\n"
          ],
          "name": "stdout"
        }
      ]
    },
    {
      "cell_type": "code",
      "metadata": {
        "id": "Ro4-8MoriqoO"
      },
      "source": [
        "print(fin_model.predict([num_dev,sen_dev])) "
      ],
      "execution_count": null,
      "outputs": []
    },
    {
      "cell_type": "code",
      "metadata": {
        "id": "nEmdrXmhmvUd",
        "outputId": "e2a81e8e-3bf2-4374-e001-86e51909bc8b",
        "colab": {
          "base_uri": "https://localhost:8080/",
          "height": 54
        }
      },
      "source": [
        "prediction = fin_model.predict([num_dev,sen_dev])[0]\n",
        "prediction = tf.greater(prediction, 25)\n",
        "y_dev_boolean = tf.greater(np.array(up_down_pred_dev,dtype='float32'),0.5)\n",
        "surplus_deficit = []\n",
        "earned_money = []\n",
        "for i in range(up_down_pred_dev.shape[0]):\n",
        "  if prediction[i]==True and y_dev_boolean[i]==True:\n",
        "    surplus_deficit.append('Surplus') #bought stock when prediction>0 and actual change was >0\n",
        "    earned_money.append(np.array(net_pred_dev)[i])\n",
        "  if prediction[i]==True and y_dev_boolean[i]==False:\n",
        "    surplus_deficit.append('Deficit')\n",
        "    earned_money.append(np.array(net_pred_dev)[i])\n",
        "\n",
        "print('Earned money for chance of ',(surplus_deficit.count('Surplus')*100)/len(surplus_deficit),'%')\n",
        "print('Earned money = ',np.sum(np.array(earned_money)-25)*10,'$')"
      ],
      "execution_count": null,
      "outputs": [
        {
          "output_type": "stream",
          "text": [
            "Earned money for chance of  56.15384615384615 %\n",
            "Earned money =  1870.0 $\n"
          ],
          "name": "stdout"
        }
      ]
    }
  ]
}